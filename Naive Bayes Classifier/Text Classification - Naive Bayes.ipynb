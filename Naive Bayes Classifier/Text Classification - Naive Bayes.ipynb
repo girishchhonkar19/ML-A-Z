{
 "cells": [
  {
   "cell_type": "markdown",
   "id": "8b1c5396",
   "metadata": {},
   "source": [
    "## Multinomial Event Model"
   ]
  },
  {
   "cell_type": "code",
   "execution_count": 303,
   "id": "6c611f0e",
   "metadata": {},
   "outputs": [],
   "source": [
    "x = [\"This was an awesome movie\",\n",
    "    \"Great movie! I liked it a lot\",\n",
    "    \"Happy ending , awesome acting by hero\",\n",
    "    \"I absolutely his acting\",\n",
    "    \"Phenomenol performance by the caste\",\n",
    "    \"Surely a dissapointing movie!\",\n",
    "    \"could have been better\",\n",
    "    \"bad not upto the mark\"]\n",
    "y=[1,1,1,1,1,0,0,0]"
   ]
  },
  {
   "cell_type": "code",
   "execution_count": 304,
   "id": "5a2d6cc4",
   "metadata": {},
   "outputs": [],
   "source": [
    "x_test = [\"This movie is bad\",\n",
    "         \"I love this movie\",\n",
    "         \"I loved the movie and happy with it\"]"
   ]
  },
  {
   "cell_type": "markdown",
   "id": "8b57cb53",
   "metadata": {},
   "source": [
    "## 1.Cleaning"
   ]
  },
  {
   "cell_type": "code",
   "execution_count": 305,
   "id": "1483eb20",
   "metadata": {},
   "outputs": [],
   "source": [
    "import clean_text as ct"
   ]
  },
  {
   "cell_type": "code",
   "execution_count": 306,
   "id": "5c0ac267",
   "metadata": {},
   "outputs": [],
   "source": [
    "x_clean = [ct.getStemmedReview(i) for i in x]"
   ]
  },
  {
   "cell_type": "code",
   "execution_count": 307,
   "id": "f8990eeb",
   "metadata": {},
   "outputs": [],
   "source": [
    "xt_clean = [ct.getStemmedReview(i) for i in x_test]"
   ]
  },
  {
   "cell_type": "code",
   "execution_count": 308,
   "id": "48bcfb15",
   "metadata": {},
   "outputs": [
    {
     "data": {
      "text/plain": [
       "['movi bad', 'love movi', 'love movi happi']"
      ]
     },
     "execution_count": 308,
     "metadata": {},
     "output_type": "execute_result"
    }
   ],
   "source": [
    "xt_clean"
   ]
  },
  {
   "cell_type": "markdown",
   "id": "c50d4392",
   "metadata": {},
   "source": [
    "## 2.Vectorization"
   ]
  },
  {
   "cell_type": "code",
   "execution_count": 309,
   "id": "f77bbb10",
   "metadata": {},
   "outputs": [],
   "source": [
    "from sklearn.feature_extraction.text import CountVectorizer"
   ]
  },
  {
   "cell_type": "code",
   "execution_count": 310,
   "id": "7e882959",
   "metadata": {},
   "outputs": [],
   "source": [
    "cv= CountVectorizer()"
   ]
  },
  {
   "cell_type": "code",
   "execution_count": 311,
   "id": "61075929",
   "metadata": {},
   "outputs": [],
   "source": [
    "x_vec = cv.fit_transform(x_clean)"
   ]
  },
  {
   "cell_type": "code",
   "execution_count": 312,
   "id": "5c7a395f",
   "metadata": {},
   "outputs": [],
   "source": [
    "x_vec = x_vec.toarray()"
   ]
  },
  {
   "cell_type": "code",
   "execution_count": 313,
   "id": "91c56cd6",
   "metadata": {},
   "outputs": [
    {
     "name": "stdout",
     "output_type": "stream",
     "text": [
      "(8, 20)\n"
     ]
    }
   ],
   "source": [
    "x_vec[0]\n",
    "print(x_vec.shape)"
   ]
  },
  {
   "cell_type": "code",
   "execution_count": 314,
   "id": "167e6364",
   "metadata": {},
   "outputs": [
    {
     "name": "stderr",
     "output_type": "stream",
     "text": [
      "/home/girish/.local/lib/python3.8/site-packages/sklearn/utils/deprecation.py:87: FutureWarning: Function get_feature_names is deprecated; get_feature_names is deprecated in 1.0 and will be removed in 1.2. Please use get_feature_names_out instead.\n",
      "  warnings.warn(msg, category=FutureWarning)\n"
     ]
    },
    {
     "data": {
      "text/plain": [
       "['absolut',\n",
       " 'act',\n",
       " 'awesom',\n",
       " 'bad',\n",
       " 'better',\n",
       " 'cast',\n",
       " 'could',\n",
       " 'dissapoint',\n",
       " 'end',\n",
       " 'great',\n",
       " 'happi',\n",
       " 'hero',\n",
       " 'like',\n",
       " 'lot',\n",
       " 'mark',\n",
       " 'movi',\n",
       " 'perform',\n",
       " 'phenomenol',\n",
       " 'sure',\n",
       " 'upto']"
      ]
     },
     "execution_count": 314,
     "metadata": {},
     "output_type": "execute_result"
    }
   ],
   "source": [
    "cv.get_feature_names()"
   ]
  },
  {
   "cell_type": "code",
   "execution_count": 315,
   "id": "0029e5bb",
   "metadata": {},
   "outputs": [],
   "source": [
    "#Applying tranfrom for X_test \n",
    "\n",
    "# We can't apply fit transform because it will change the vectororizer for test\n",
    "\n",
    "\n",
    "xt_vec = cv.transform(xt_clean)"
   ]
  },
  {
   "cell_type": "code",
   "execution_count": 316,
   "id": "6d8d9b17",
   "metadata": {},
   "outputs": [
    {
     "data": {
      "text/plain": [
       "['absolut',\n",
       " 'act',\n",
       " 'awesom',\n",
       " 'bad',\n",
       " 'better',\n",
       " 'cast',\n",
       " 'could',\n",
       " 'dissapoint',\n",
       " 'end',\n",
       " 'great',\n",
       " 'happi',\n",
       " 'hero',\n",
       " 'like',\n",
       " 'lot',\n",
       " 'mark',\n",
       " 'movi',\n",
       " 'perform',\n",
       " 'phenomenol',\n",
       " 'sure',\n",
       " 'upto']"
      ]
     },
     "execution_count": 316,
     "metadata": {},
     "output_type": "execute_result"
    }
   ],
   "source": [
    "cv.get_feature_names()\n",
    "\n",
    "# Now you casn see that vectorizer is same"
   ]
  },
  {
   "cell_type": "code",
   "execution_count": 317,
   "id": "acbc80da",
   "metadata": {},
   "outputs": [
    {
     "name": "stdout",
     "output_type": "stream",
     "text": [
      "[[0 0 0 1 0 0 0 0 0 0 0 0 0 0 0 1 0 0 0 0]\n",
      " [0 0 0 0 0 0 0 0 0 0 0 0 0 0 0 1 0 0 0 0]\n",
      " [0 0 0 0 0 0 0 0 0 0 1 0 0 0 0 1 0 0 0 0]]\n",
      "(3, 20)\n"
     ]
    }
   ],
   "source": [
    "xt_vec = xt_vec.toarray()\n",
    "print(xt_vec)\n",
    "print(xt_vec.shape)"
   ]
  },
  {
   "cell_type": "markdown",
   "id": "cd5d2dbb",
   "metadata": {},
   "source": [
    "## Multinomial Naive Bayes "
   ]
  },
  {
   "cell_type": "code",
   "execution_count": 318,
   "id": "f4fdf70d",
   "metadata": {},
   "outputs": [],
   "source": [
    "from sklearn.naive_bayes import MultinomialNB"
   ]
  },
  {
   "cell_type": "code",
   "execution_count": 319,
   "id": "f34d278f",
   "metadata": {},
   "outputs": [],
   "source": [
    "mnb = MultinomialNB()"
   ]
  },
  {
   "cell_type": "code",
   "execution_count": 320,
   "id": "a0155453",
   "metadata": {},
   "outputs": [
    {
     "data": {
      "text/plain": [
       "MultinomialNB()"
      ]
     },
     "execution_count": 320,
     "metadata": {},
     "output_type": "execute_result"
    }
   ],
   "source": [
    "mnb.fit(x_vec,y)"
   ]
  },
  {
   "cell_type": "code",
   "execution_count": 321,
   "id": "5ef6e21b",
   "metadata": {},
   "outputs": [
    {
     "data": {
      "text/plain": [
       "array([0, 1, 1])"
      ]
     },
     "execution_count": 321,
     "metadata": {},
     "output_type": "execute_result"
    }
   ],
   "source": [
    "mnb.predict(xt_vec)"
   ]
  },
  {
   "cell_type": "code",
   "execution_count": 322,
   "id": "26d637cc",
   "metadata": {},
   "outputs": [],
   "source": [
    "#Now we can verify from above our prediction is correct"
   ]
  },
  {
   "cell_type": "markdown",
   "id": "508afb94",
   "metadata": {},
   "source": [
    "## Multivariate Binomial "
   ]
  },
  {
   "cell_type": "code",
   "execution_count": 323,
   "id": "07e1c757",
   "metadata": {},
   "outputs": [],
   "source": [
    "from sklearn.naive_bayes import BernoulliNB"
   ]
  },
  {
   "cell_type": "code",
   "execution_count": 324,
   "id": "1f2b555b",
   "metadata": {},
   "outputs": [],
   "source": [
    "bnb = BernoulliNB()"
   ]
  },
  {
   "cell_type": "code",
   "execution_count": 325,
   "id": "422a1964",
   "metadata": {},
   "outputs": [
    {
     "data": {
      "text/plain": [
       "BernoulliNB()"
      ]
     },
     "execution_count": 325,
     "metadata": {},
     "output_type": "execute_result"
    }
   ],
   "source": [
    "bnb.fit(x_vec,y)"
   ]
  },
  {
   "cell_type": "code",
   "execution_count": 326,
   "id": "038074c1",
   "metadata": {},
   "outputs": [
    {
     "data": {
      "text/plain": [
       "array([0, 1, 1])"
      ]
     },
     "execution_count": 326,
     "metadata": {},
     "output_type": "execute_result"
    }
   ],
   "source": [
    "bnb.predict(xt_vec)"
   ]
  },
  {
   "cell_type": "code",
   "execution_count": 327,
   "id": "27ea59be",
   "metadata": {},
   "outputs": [
    {
     "data": {
      "text/plain": [
       "1.0"
      ]
     },
     "execution_count": 327,
     "metadata": {},
     "output_type": "execute_result"
    }
   ],
   "source": [
    "bnb.score(x_vec,y)"
   ]
  },
  {
   "cell_type": "code",
   "execution_count": 328,
   "id": "808b2068",
   "metadata": {},
   "outputs": [
    {
     "data": {
      "text/plain": [
       "array([[0.52896319, 0.47103681],\n",
       "       [0.21920389, 0.78079611],\n",
       "       [0.14927288, 0.85072712]])"
      ]
     },
     "execution_count": 328,
     "metadata": {},
     "output_type": "execute_result"
    }
   ],
   "source": [
    "bnb.predict_proba(xt_vec)"
   ]
  },
  {
   "cell_type": "markdown",
   "id": "389a3cd4",
   "metadata": {},
   "source": [
    "# Generating and plotting Confusion MAtrix"
   ]
  },
  {
   "cell_type": "code",
   "execution_count": null,
   "id": "887cda92",
   "metadata": {},
   "outputs": [],
   "source": []
  }
 ],
 "metadata": {
  "kernelspec": {
   "display_name": "Python 3 (ipykernel)",
   "language": "python",
   "name": "python3"
  },
  "language_info": {
   "codemirror_mode": {
    "name": "ipython",
    "version": 3
   },
   "file_extension": ".py",
   "mimetype": "text/x-python",
   "name": "python",
   "nbconvert_exporter": "python",
   "pygments_lexer": "ipython3",
   "version": "3.8.10"
  }
 },
 "nbformat": 4,
 "nbformat_minor": 5
}
