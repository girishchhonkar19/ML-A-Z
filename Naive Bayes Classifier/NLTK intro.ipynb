{
 "cells": [
  {
   "cell_type": "code",
   "execution_count": 1,
   "id": "f18fcf9a",
   "metadata": {},
   "outputs": [],
   "source": [
    "import nltk"
   ]
  },
  {
   "cell_type": "code",
   "execution_count": 6,
   "id": "209e3d7d",
   "metadata": {},
   "outputs": [],
   "source": [
    "from nltk.corpus import brown"
   ]
  },
  {
   "cell_type": "code",
   "execution_count": 9,
   "id": "a4387c14",
   "metadata": {},
   "outputs": [
    {
     "data": {
      "text/plain": [
       "['adventure',\n",
       " 'belles_lettres',\n",
       " 'editorial',\n",
       " 'fiction',\n",
       " 'government',\n",
       " 'hobbies',\n",
       " 'humor',\n",
       " 'learned',\n",
       " 'lore',\n",
       " 'mystery',\n",
       " 'news',\n",
       " 'religion',\n",
       " 'reviews',\n",
       " 'romance',\n",
       " 'science_fiction']"
      ]
     },
     "execution_count": 9,
     "metadata": {},
     "output_type": "execute_result"
    }
   ],
   "source": [
    "brown.categories()"
   ]
  },
  {
   "cell_type": "code",
   "execution_count": 11,
   "id": "09bc1fe9",
   "metadata": {},
   "outputs": [
    {
     "name": "stdout",
     "output_type": "stream",
     "text": [
      "['adventure', 'belles_lettres', 'editorial', 'fiction', 'government', 'hobbies', 'humor', 'learned', 'lore', 'mystery', 'news', 'religion', 'reviews', 'romance', 'science_fiction']\n"
     ]
    },
    {
     "data": {
      "text/plain": [
       "15"
      ]
     },
     "execution_count": 11,
     "metadata": {},
     "output_type": "execute_result"
    }
   ],
   "source": [
    "print(brown.categories())\n",
    "len(brown.categories())"
   ]
  },
  {
   "cell_type": "code",
   "execution_count": 12,
   "id": "002321c2",
   "metadata": {},
   "outputs": [],
   "source": [
    "data = brown.sents(categories='adventure')"
   ]
  },
  {
   "cell_type": "code",
   "execution_count": 15,
   "id": "1e8890cf",
   "metadata": {},
   "outputs": [
    {
     "name": "stdout",
     "output_type": "stream",
     "text": [
      "['Dan', 'Morgan', 'told', 'himself', 'he', 'would', 'forget', 'Ann', 'Turner', '.']\n"
     ]
    }
   ],
   "source": [
    "print(data[0])"
   ]
  },
  {
   "cell_type": "code",
   "execution_count": 17,
   "id": "512d661e",
   "metadata": {},
   "outputs": [
    {
     "data": {
      "text/plain": [
       "'Dan Morgan told himself he would forget Ann Turner .'"
      ]
     },
     "execution_count": 17,
     "metadata": {},
     "output_type": "execute_result"
    }
   ],
   "source": [
    "' '.join(data[0])"
   ]
  },
  {
   "cell_type": "code",
   "execution_count": 18,
   "id": "2f9e4e95",
   "metadata": {},
   "outputs": [],
   "source": [
    "data = brown.sents?"
   ]
  },
  {
   "cell_type": "code",
   "execution_count": 19,
   "id": "b72d02c3",
   "metadata": {},
   "outputs": [],
   "source": [
    "data = brown.sents(categories='romance')"
   ]
  },
  {
   "cell_type": "code",
   "execution_count": 22,
   "id": "1d6da498",
   "metadata": {},
   "outputs": [
    {
     "data": {
      "text/plain": [
       "'The Old Man was unimportant .'"
      ]
     },
     "execution_count": 22,
     "metadata": {},
     "output_type": "execute_result"
    }
   ],
   "source": [
    "' '.join(data[2])"
   ]
  },
  {
   "cell_type": "markdown",
   "id": "1a172156",
   "metadata": {},
   "source": [
    "# Tokenization and StopWords"
   ]
  },
  {
   "cell_type": "code",
   "execution_count": 26,
   "id": "d2936cd7",
   "metadata": {},
   "outputs": [],
   "source": [
    "from nltk.tokenize import sent_tokenize,word_tokenize"
   ]
  },
  {
   "cell_type": "code",
   "execution_count": 27,
   "id": "25ce458f",
   "metadata": {},
   "outputs": [],
   "source": [
    "from nltk.tokenize import word_tokenize"
   ]
  },
  {
   "cell_type": "code",
   "execution_count": 45,
   "id": "c2578c70",
   "metadata": {},
   "outputs": [],
   "source": [
    "#multiline sentence in 3 atastrophe\n",
    "document = \"\"\"She is a bad girl. It's raining outside. \n",
    "She must have inside the house.\"\"\"\n",
    "\n",
    "sentence = \"I love her she is nice to me , by @girishchhonkar.com.\"\n"
   ]
  },
  {
   "cell_type": "code",
   "execution_count": 32,
   "id": "aa3b3b2b",
   "metadata": {},
   "outputs": [],
   "source": [
    "sents=sent_tokenize(document)"
   ]
  },
  {
   "cell_type": "code",
   "execution_count": 34,
   "id": "c1142e6c",
   "metadata": {},
   "outputs": [
    {
     "name": "stdout",
     "output_type": "stream",
     "text": [
      "['She is a bad girl.', \"It's raining outside.\", 'She must have inside the house.']\n"
     ]
    }
   ],
   "source": [
    "print(sents)"
   ]
  },
  {
   "cell_type": "code",
   "execution_count": 36,
   "id": "9584cdfc",
   "metadata": {},
   "outputs": [
    {
     "data": {
      "text/plain": [
       "\"It's raining outside.\""
      ]
     },
     "execution_count": 36,
     "metadata": {},
     "output_type": "execute_result"
    }
   ],
   "source": [
    "sents[1]"
   ]
  },
  {
   "cell_type": "code",
   "execution_count": 46,
   "id": "bef131dc",
   "metadata": {},
   "outputs": [
    {
     "data": {
      "text/plain": [
       "['I',\n",
       " 'love',\n",
       " 'her',\n",
       " 'she',\n",
       " 'is',\n",
       " 'nice',\n",
       " 'to',\n",
       " 'me',\n",
       " ',',\n",
       " 'by',\n",
       " '@girishchhonkar.com.']"
      ]
     },
     "execution_count": 46,
     "metadata": {},
     "output_type": "execute_result"
    }
   ],
   "source": [
    "sentence.split()"
   ]
  },
  {
   "cell_type": "code",
   "execution_count": 47,
   "id": "700ce2fa",
   "metadata": {},
   "outputs": [],
   "source": [
    "words = word_tokenize(sentence)"
   ]
  },
  {
   "cell_type": "code",
   "execution_count": 48,
   "id": "da96661b",
   "metadata": {},
   "outputs": [
    {
     "data": {
      "text/plain": [
       "['I',\n",
       " 'love',\n",
       " 'her',\n",
       " 'she',\n",
       " 'is',\n",
       " 'nice',\n",
       " 'to',\n",
       " 'me',\n",
       " ',',\n",
       " 'by',\n",
       " '@',\n",
       " 'girishchhonkar.com',\n",
       " '.']"
      ]
     },
     "execution_count": 48,
     "metadata": {},
     "output_type": "execute_result"
    }
   ],
   "source": [
    "words"
   ]
  },
  {
   "cell_type": "markdown",
   "id": "7ae1e316",
   "metadata": {},
   "source": [
    "# StopWords"
   ]
  },
  {
   "cell_type": "code",
   "execution_count": 50,
   "id": "28274ee0",
   "metadata": {},
   "outputs": [],
   "source": [
    "from nltk.corpus import stopwords"
   ]
  },
  {
   "cell_type": "code",
   "execution_count": 62,
   "id": "13b81253",
   "metadata": {},
   "outputs": [],
   "source": [
    "sw = set(stopwords.words('english'))"
   ]
  },
  {
   "cell_type": "code",
   "execution_count": 63,
   "id": "30f7ef56",
   "metadata": {},
   "outputs": [
    {
     "name": "stdout",
     "output_type": "stream",
     "text": [
      "{'or', \"hasn't\", 'under', 'theirs', 'does', 'what', 'of', 'any', 'its', 'wouldn', 'by', \"mightn't\", 'haven', 'other', 'yourselves', 'me', 'shouldn', 'been', \"doesn't\", 'your', 'mustn', 'the', 'but', 'won', 'am', 'this', 'was', 'above', 'off', 'now', \"that'll\", 'can', 'that', 'will', 'they', \"hadn't\", 'same', 'about', 'isn', 'against', 'very', \"won't\", 'his', 'aren', 'only', \"couldn't\", 'y', 'didn', 'both', 'with', 'not', 're', 'd', 'weren', 'them', 'her', 'doing', 'more', 's', \"shan't\", 'be', 'below', 'hers', 'most', 'himself', 'itself', \"don't\", 'couldn', 'do', 'before', 'yours', 'a', 'where', 'their', 'once', \"it's\", 'herself', 'whom', \"she's\", 'why', 'yourself', 'these', 'no', \"you'll\", 'for', 'having', \"shouldn't\", \"should've\", \"aren't\", 'over', 've', 'because', 'too', 'than', 'she', \"you'd\", 'at', 'further', 'if', 'needn', 'from', 'he', 'themselves', 'did', 'such', 'here', \"needn't\", 'hasn', \"you're\", 'nor', 'our', 'ourselves', 'ma', \"wouldn't\", 'then', 'just', 'll', 'which', 'some', 'after', 'shan', 'have', 'on', 'each', \"haven't\", 'had', 'who', 'doesn', \"weren't\", 't', 'i', 'were', 'him', \"you've\", 'is', 'are', 'as', 'up', 'being', 'few', 'down', 'and', 'to', 'during', 'hadn', 'it', 'm', \"mustn't\", 'we', 'between', 'myself', 'an', 'through', 'all', 'mightn', 'those', 'how', 'ain', 'ours', 'has', 'into', 'you', 'out', 'so', \"isn't\", 'in', 'don', 'while', \"didn't\", 'when', 'wasn', 'should', 'there', \"wasn't\", 'o', 'until', 'again', 'my', 'own'}\n"
     ]
    }
   ],
   "source": [
    "print(sw)"
   ]
  },
  {
   "cell_type": "code",
   "execution_count": 72,
   "id": "631cbad1",
   "metadata": {},
   "outputs": [],
   "source": [
    "w = 'I am not bothered by her.'"
   ]
  },
  {
   "cell_type": "code",
   "execution_count": 66,
   "id": "bdd75326",
   "metadata": {},
   "outputs": [],
   "source": [
    "def remove_stopwords(text,stopwords):\n",
    "    useful_words = [w for w in text if w not in stopwords]\n",
    "    return useful_words"
   ]
  },
  {
   "cell_type": "code",
   "execution_count": 73,
   "id": "6d8f88c0",
   "metadata": {},
   "outputs": [
    {
     "data": {
      "text/plain": [
       "['I', 'bothered', 'her.']"
      ]
     },
     "execution_count": 73,
     "metadata": {},
     "output_type": "execute_result"
    }
   ],
   "source": [
    "remove_stopwords(w.split(),sw)"
   ]
  },
  {
   "cell_type": "code",
   "execution_count": 77,
   "id": "21ec7b10",
   "metadata": {},
   "outputs": [
    {
     "data": {
      "text/plain": [
       "True"
      ]
     },
     "execution_count": 77,
     "metadata": {},
     "output_type": "execute_result"
    }
   ],
   "source": [
    "'am' in sw"
   ]
  },
  {
   "cell_type": "markdown",
   "id": "dbfebc95",
   "metadata": {},
   "source": [
    "# Tokenization using Regular Expression"
   ]
  },
  {
   "cell_type": "code",
   "execution_count": 82,
   "id": "fd628514",
   "metadata": {},
   "outputs": [],
   "source": [
    "from nltk.tokenize import RegexpTokenizer"
   ]
  },
  {
   "cell_type": "code",
   "execution_count": 83,
   "id": "b7c8437d",
   "metadata": {},
   "outputs": [],
   "source": [
    "sentence = 'Send me all the document at girishchhonkar19@gmail.com.'"
   ]
  },
  {
   "cell_type": "code",
   "execution_count": 95,
   "id": "e0d2f28e",
   "metadata": {},
   "outputs": [],
   "source": [
    "tokenizer = RegexpTokenizer('[a-zA-z@]+')"
   ]
  },
  {
   "cell_type": "code",
   "execution_count": 96,
   "id": "5ab13f2f",
   "metadata": {},
   "outputs": [],
   "source": [
    "useful_text = tokenizer.tokenize(sentence)"
   ]
  },
  {
   "cell_type": "code",
   "execution_count": 97,
   "id": "16f93125",
   "metadata": {},
   "outputs": [
    {
     "data": {
      "text/plain": [
       "['Send',\n",
       " 'me',\n",
       " 'all',\n",
       " 'the',\n",
       " 'document',\n",
       " 'at',\n",
       " 'girishchhonkar',\n",
       " '@gmail',\n",
       " 'com']"
      ]
     },
     "execution_count": 97,
     "metadata": {},
     "output_type": "execute_result"
    }
   ],
   "source": [
    "useful_text"
   ]
  },
  {
   "cell_type": "markdown",
   "id": "ee67ead7",
   "metadata": {},
   "source": [
    "# Stemming \n",
    "## change the word in its base form"
   ]
  },
  {
   "cell_type": "code",
   "execution_count": 98,
   "id": "b08cede9",
   "metadata": {},
   "outputs": [],
   "source": [
    "# three type of stemmer snowball, porter, Lancaster stemmer"
   ]
  },
  {
   "cell_type": "code",
   "execution_count": 101,
   "id": "c432580b",
   "metadata": {},
   "outputs": [],
   "source": [
    "from nltk.stem.snowball import SnowballStemmer, PorterStemmer "
   ]
  },
  {
   "cell_type": "code",
   "execution_count": 102,
   "id": "b747a60e",
   "metadata": {},
   "outputs": [],
   "source": [
    "from nltk.stem.lancaster import LancasterStemmer"
   ]
  },
  {
   "cell_type": "code",
   "execution_count": 103,
   "id": "3e2e8e2c",
   "metadata": {},
   "outputs": [],
   "source": [
    "ps = PorterStemmer()"
   ]
  },
  {
   "cell_type": "code",
   "execution_count": 104,
   "id": "69d7a798",
   "metadata": {},
   "outputs": [
    {
     "data": {
      "text/plain": [
       "'jump'"
      ]
     },
     "execution_count": 104,
     "metadata": {},
     "output_type": "execute_result"
    }
   ],
   "source": [
    "ps.stem('jumping')"
   ]
  },
  {
   "cell_type": "code",
   "execution_count": 105,
   "id": "3abbf7da",
   "metadata": {},
   "outputs": [
    {
     "data": {
      "text/plain": [
       "'jump'"
      ]
     },
     "execution_count": 105,
     "metadata": {},
     "output_type": "execute_result"
    }
   ],
   "source": [
    "ps.stem('jumps')"
   ]
  },
  {
   "cell_type": "code",
   "execution_count": 106,
   "id": "8f286790",
   "metadata": {},
   "outputs": [
    {
     "data": {
      "text/plain": [
       "'love'"
      ]
     },
     "execution_count": 106,
     "metadata": {},
     "output_type": "execute_result"
    }
   ],
   "source": [
    "ps.stem('lovely')"
   ]
  },
  {
   "cell_type": "code",
   "execution_count": 107,
   "id": "7df775db",
   "metadata": {},
   "outputs": [
    {
     "data": {
      "text/plain": [
       "'love'"
      ]
     },
     "execution_count": 107,
     "metadata": {},
     "output_type": "execute_result"
    }
   ],
   "source": [
    "ps.stem('loving')"
   ]
  },
  {
   "cell_type": "code",
   "execution_count": 110,
   "id": "1190d62a",
   "metadata": {},
   "outputs": [],
   "source": [
    "ss = SnowballStemmer('english')"
   ]
  },
  {
   "cell_type": "code",
   "execution_count": 111,
   "id": "775306b0",
   "metadata": {},
   "outputs": [
    {
     "data": {
      "text/plain": [
       "'love'"
      ]
     },
     "execution_count": 111,
     "metadata": {},
     "output_type": "execute_result"
    }
   ],
   "source": [
    "ss.stem('loved')"
   ]
  },
  {
   "cell_type": "code",
   "execution_count": 112,
   "id": "995b7e07",
   "metadata": {},
   "outputs": [],
   "source": [
    "from nltk.stem import WordNetLemmatizer"
   ]
  },
  {
   "cell_type": "code",
   "execution_count": 116,
   "id": "1270d88d",
   "metadata": {},
   "outputs": [
    {
     "data": {
      "text/plain": [
       "'jumped'"
      ]
     },
     "execution_count": 116,
     "metadata": {},
     "output_type": "execute_result"
    }
   ],
   "source": [
    "wn = WordNetLemmatizer()\n",
    "wn.lemmatize('jumped')"
   ]
  },
  {
   "cell_type": "markdown",
   "id": "556a01d4",
   "metadata": {},
   "source": [
    "# Building Vocab and Vectorization"
   ]
  },
  {
   "cell_type": "code",
   "execution_count": 118,
   "id": "8e61df7a",
   "metadata": {},
   "outputs": [],
   "source": [
    "from sklearn.feature_extraction.text import CountVectorizer"
   ]
  },
  {
   "cell_type": "code",
   "execution_count": 119,
   "id": "12510ec5",
   "metadata": {},
   "outputs": [],
   "source": [
    "cv = CountVectorizer()"
   ]
  },
  {
   "cell_type": "code",
   "execution_count": 120,
   "id": "5805559d",
   "metadata": {},
   "outputs": [],
   "source": [
    "corpus = [\n",
    "    'Indian captain MS Dhoni said in media interaction that he\\s confident that his team will win thw world cup',\n",
    "     'We will win next Lok sabha election says confident Indian PM',\n",
    "     'The nobel laurate won the heart of people',\n",
    "     'The movie Raazi is an exciting spy thriller based on real story']"
   ]
  },
  {
   "cell_type": "code",
   "execution_count": 121,
   "id": "c1669022",
   "metadata": {},
   "outputs": [],
   "source": [
    "vectorized_corpus = cv.fit_transform(corpus)"
   ]
  },
  {
   "cell_type": "code",
   "execution_count": 124,
   "id": "b971dcc1",
   "metadata": {},
   "outputs": [
    {
     "data": {
      "text/plain": [
       "<4x43 sparse matrix of type '<class 'numpy.int64'>'\n",
       "\twith 48 stored elements in Compressed Sparse Row format>"
      ]
     },
     "execution_count": 124,
     "metadata": {},
     "output_type": "execute_result"
    }
   ],
   "source": [
    "vectorized_corpus"
   ]
  },
  {
   "cell_type": "code",
   "execution_count": 125,
   "id": "e210526c",
   "metadata": {},
   "outputs": [],
   "source": [
    "vectorized_corpus = vectorized_corpus.toarray()"
   ]
  },
  {
   "cell_type": "code",
   "execution_count": 126,
   "id": "90571ba3",
   "metadata": {},
   "outputs": [
    {
     "data": {
      "text/plain": [
       "array([[0, 0, 1, 1, 1, 1, 0, 0, 1, 0, 1, 1, 1, 1, 0, 0, 0, 1, 0, 1, 0, 0,\n",
       "        0, 0, 0, 0, 0, 0, 0, 1, 0, 0, 0, 1, 2, 0, 0, 1, 0, 1, 1, 0, 1],\n",
       "       [0, 0, 0, 1, 0, 0, 1, 0, 0, 0, 0, 0, 1, 0, 0, 0, 1, 0, 0, 0, 1, 0,\n",
       "        0, 0, 0, 1, 0, 0, 1, 0, 1, 0, 0, 0, 0, 0, 0, 0, 1, 1, 1, 0, 0],\n",
       "       [0, 0, 0, 0, 0, 0, 0, 0, 0, 1, 0, 0, 0, 0, 0, 1, 0, 0, 0, 0, 0, 1,\n",
       "        1, 0, 1, 0, 0, 0, 0, 0, 0, 0, 0, 0, 0, 2, 0, 0, 0, 0, 0, 1, 0],\n",
       "       [1, 1, 0, 0, 0, 0, 0, 1, 0, 0, 0, 0, 0, 0, 1, 0, 0, 0, 1, 0, 0, 0,\n",
       "        0, 1, 0, 0, 1, 1, 0, 0, 0, 1, 1, 0, 0, 1, 1, 0, 0, 0, 0, 0, 0]])"
      ]
     },
     "execution_count": 126,
     "metadata": {},
     "output_type": "execute_result"
    }
   ],
   "source": [
    "vectorized_corpus"
   ]
  },
  {
   "cell_type": "code",
   "execution_count": 127,
   "id": "6cda6166",
   "metadata": {},
   "outputs": [
    {
     "data": {
      "text/plain": [
       "array([0, 0, 1, 1, 1, 1, 0, 0, 1, 0, 1, 1, 1, 1, 0, 0, 0, 1, 0, 1, 0, 0,\n",
       "       0, 0, 0, 0, 0, 0, 0, 1, 0, 0, 0, 1, 2, 0, 0, 1, 0, 1, 1, 0, 1])"
      ]
     },
     "execution_count": 127,
     "metadata": {},
     "output_type": "execute_result"
    }
   ],
   "source": [
    "vectorized_corpus[0]"
   ]
  },
  {
   "cell_type": "code",
   "execution_count": 130,
   "id": "4e85828e",
   "metadata": {},
   "outputs": [
    {
     "name": "stdout",
     "output_type": "stream",
     "text": [
      "{'indian': 12, 'captain': 2, 'ms': 19, 'dhoni': 5, 'said': 29, 'in': 11, 'media': 17, 'interaction': 13, 'that': 34, 'he': 8, 'confident': 3, 'his': 10, 'team': 33, 'will': 39, 'win': 40, 'thw': 37, 'world': 42, 'cup': 4, 'we': 38, 'next': 20, 'lok': 16, 'sabha': 28, 'election': 6, 'says': 30, 'pm': 25, 'the': 35, 'nobel': 21, 'laurate': 15, 'won': 41, 'heart': 9, 'of': 22, 'people': 24, 'movie': 18, 'raazi': 26, 'is': 14, 'an': 0, 'exciting': 7, 'spy': 31, 'thriller': 36, 'based': 1, 'on': 23, 'real': 27, 'story': 32}\n"
     ]
    }
   ],
   "source": [
    "print(cv.vocabulary_)"
   ]
  },
  {
   "cell_type": "code",
   "execution_count": 131,
   "id": "b8bd139d",
   "metadata": {},
   "outputs": [],
   "source": [
    "numbers = vectorized_corpus[2]"
   ]
  },
  {
   "cell_type": "code",
   "execution_count": 132,
   "id": "812284b3",
   "metadata": {},
   "outputs": [
    {
     "data": {
      "text/plain": [
       "array([0, 0, 0, 0, 0, 0, 0, 0, 0, 1, 0, 0, 0, 0, 0, 1, 0, 0, 0, 0, 0, 1,\n",
       "       1, 0, 1, 0, 0, 0, 0, 0, 0, 0, 0, 0, 0, 2, 0, 0, 0, 0, 0, 1, 0])"
      ]
     },
     "execution_count": 132,
     "metadata": {},
     "output_type": "execute_result"
    }
   ],
   "source": [
    "numbers"
   ]
  },
  {
   "cell_type": "code",
   "execution_count": 135,
   "id": "232134a5",
   "metadata": {},
   "outputs": [],
   "source": [
    "s=cv.inverse_transform(vectorized_corpus)"
   ]
  },
  {
   "cell_type": "code",
   "execution_count": 136,
   "id": "d9e5edce",
   "metadata": {},
   "outputs": [
    {
     "data": {
      "text/plain": [
       "[array(['captain', 'confident', 'cup', 'dhoni', 'he', 'his', 'in',\n",
       "        'indian', 'interaction', 'media', 'ms', 'said', 'team', 'that',\n",
       "        'thw', 'will', 'win', 'world'], dtype='<U11'),\n",
       " array(['confident', 'election', 'indian', 'lok', 'next', 'pm', 'sabha',\n",
       "        'says', 'we', 'will', 'win'], dtype='<U11'),\n",
       " array(['heart', 'laurate', 'nobel', 'of', 'people', 'the', 'won'],\n",
       "       dtype='<U11'),\n",
       " array(['an', 'based', 'exciting', 'is', 'movie', 'on', 'raazi', 'real',\n",
       "        'spy', 'story', 'the', 'thriller'], dtype='<U11')]"
      ]
     },
     "execution_count": 136,
     "metadata": {},
     "output_type": "execute_result"
    }
   ],
   "source": [
    "s"
   ]
  },
  {
   "cell_type": "markdown",
   "id": "c7609995",
   "metadata": {},
   "source": [
    "# Vectorization with stopword removal"
   ]
  },
  {
   "cell_type": "code",
   "execution_count": 173,
   "id": "958ff57d",
   "metadata": {},
   "outputs": [],
   "source": [
    "def mytokenizer(document):\n",
    "    word = tokenizer.tokenize(document.lower())\n",
    "    \n",
    "    #remove stopword\n",
    "    word = remove_stopwords(word,sw)\n",
    "    return word"
   ]
  },
  {
   "cell_type": "code",
   "execution_count": 174,
   "id": "ffd0fecd",
   "metadata": {},
   "outputs": [],
   "source": [
    "sentence = 'send me your document at girishchhonkar19@gmail.com'"
   ]
  },
  {
   "cell_type": "code",
   "execution_count": 176,
   "id": "49d2f8d6",
   "metadata": {},
   "outputs": [],
   "source": [
    "\n",
    "#mytokenizer(sentence)"
   ]
  },
  {
   "cell_type": "code",
   "execution_count": 177,
   "id": "c8acb777",
   "metadata": {},
   "outputs": [],
   "source": [
    "cv=CountVectorizer(tokenizer=mytokenizer)"
   ]
  },
  {
   "cell_type": "code",
   "execution_count": 178,
   "id": "ab6dc38b",
   "metadata": {},
   "outputs": [],
   "source": [
    "vector = cv.fit_transform(corpus)"
   ]
  },
  {
   "cell_type": "code",
   "execution_count": 179,
   "id": "5dd9834c",
   "metadata": {},
   "outputs": [],
   "source": [
    "vector = vector.toarray()"
   ]
  },
  {
   "cell_type": "code",
   "execution_count": 180,
   "id": "78027c3f",
   "metadata": {},
   "outputs": [
    {
     "data": {
      "text/plain": [
       "32"
      ]
     },
     "execution_count": 180,
     "metadata": {},
     "output_type": "execute_result"
    }
   ],
   "source": [
    "len(vector[0])\n",
    "\n",
    "# earlier this length was 42 but now it is 18 ..so it's a big plus to use stop words removal"
   ]
  },
  {
   "cell_type": "code",
   "execution_count": 181,
   "id": "17f4b08e",
   "metadata": {},
   "outputs": [
    {
     "data": {
      "text/plain": [
       "[array(['captain', 'confident', 'cup', 'dhoni', 'he\\\\s', 'indian',\n",
       "        'interaction', 'media', 'ms', 'said', 'team', 'thw', 'win',\n",
       "        'world'], dtype='<U11'),\n",
       " array(['confident', 'election', 'indian', 'lok', 'next', 'pm', 'sabha',\n",
       "        'says', 'win'], dtype='<U11'),\n",
       " array(['heart', 'laurate', 'nobel', 'people'], dtype='<U11'),\n",
       " array(['based', 'exciting', 'movie', 'raazi', 'real', 'spy', 'story',\n",
       "        'thriller'], dtype='<U11')]"
      ]
     },
     "execution_count": 181,
     "metadata": {},
     "output_type": "execute_result"
    }
   ],
   "source": [
    "cv.inverse_transform(vector)"
   ]
  },
  {
   "cell_type": "code",
   "execution_count": 182,
   "id": "d6549da8",
   "metadata": {},
   "outputs": [],
   "source": [
    "#For test data , we can't use new stopwords ,we have to use same as train data. \n",
    "# so we use transform function only not fit transform."
   ]
  },
  {
   "cell_type": "code",
   "execution_count": 189,
   "id": "4150f7c1",
   "metadata": {},
   "outputs": [],
   "source": [
    "test_corpus = ['Indian cricket team rocks!']"
   ]
  },
  {
   "cell_type": "code",
   "execution_count": 190,
   "id": "53f926aa",
   "metadata": {},
   "outputs": [
    {
     "data": {
      "text/plain": [
       "array([[0, 0, 0, 0, 0, 0, 0, 0, 0, 1, 0, 0, 0, 0, 0, 0, 0, 0, 0, 0, 0, 0,\n",
       "        0, 0, 0, 0, 0, 1, 0, 0, 0, 0]])"
      ]
     },
     "execution_count": 190,
     "metadata": {},
     "output_type": "execute_result"
    }
   ],
   "source": [
    "cv.transform(test_corpus).toarray()"
   ]
  },
  {
   "cell_type": "code",
   "execution_count": 192,
   "id": "2ef5568a",
   "metadata": {},
   "outputs": [
    {
     "data": {
      "text/plain": [
       "{'indian': 9,\n",
       " 'captain': 1,\n",
       " 'ms': 15,\n",
       " 'dhoni': 4,\n",
       " 'said': 23,\n",
       " 'media': 13,\n",
       " 'interaction': 10,\n",
       " 'he\\\\s': 7,\n",
       " 'confident': 2,\n",
       " 'team': 27,\n",
       " 'win': 30,\n",
       " 'thw': 29,\n",
       " 'world': 31,\n",
       " 'cup': 3,\n",
       " 'next': 16,\n",
       " 'lok': 12,\n",
       " 'sabha': 22,\n",
       " 'election': 5,\n",
       " 'says': 24,\n",
       " 'pm': 19,\n",
       " 'nobel': 17,\n",
       " 'laurate': 11,\n",
       " 'heart': 8,\n",
       " 'people': 18,\n",
       " 'movie': 14,\n",
       " 'raazi': 20,\n",
       " 'exciting': 6,\n",
       " 'spy': 25,\n",
       " 'thriller': 28,\n",
       " 'based': 0,\n",
       " 'real': 21,\n",
       " 'story': 26}"
      ]
     },
     "execution_count": 192,
     "metadata": {},
     "output_type": "execute_result"
    }
   ],
   "source": [
    "cv.vocabulary_"
   ]
  },
  {
   "cell_type": "markdown",
   "id": "ef54296c",
   "metadata": {},
   "source": [
    "# More ways to create Feature \n",
    "- unigram - every word as a feature\n",
    "- Bigrams - every two word as feature\n",
    "- Trigrams\n",
    "- n-gram\n",
    "- TF-IDF Normalisation"
   ]
  },
  {
   "cell_type": "code",
   "execution_count": 194,
   "id": "80c09e32",
   "metadata": {},
   "outputs": [],
   "source": [
    "sent_1 = ['This is a good movie']\n",
    "sent_2 = ['This is a good movie but actor is not present']\n",
    "sent_3 = ['This is not a good movie']"
   ]
  },
  {
   "cell_type": "code",
   "execution_count": 195,
   "id": "a2ef7e49",
   "metadata": {},
   "outputs": [],
   "source": [
    "cv=CountVectorizer(ngram_range=(1,1))"
   ]
  },
  {
   "cell_type": "code",
   "execution_count": 199,
   "id": "4a8fbb7f",
   "metadata": {},
   "outputs": [
    {
     "data": {
      "text/plain": [
       "array([[0, 0, 1, 1, 1, 0, 0, 1],\n",
       "       [1, 1, 1, 2, 1, 1, 1, 1],\n",
       "       [0, 0, 1, 1, 1, 1, 0, 1]])"
      ]
     },
     "execution_count": 199,
     "metadata": {},
     "output_type": "execute_result"
    }
   ],
   "source": [
    "docs = [sent_1[0],sent_2[0],sent_3[0]]\n",
    "cv.fit_transform(docs).toarray()"
   ]
  },
  {
   "cell_type": "code",
   "execution_count": 200,
   "id": "f7aa5dff",
   "metadata": {},
   "outputs": [
    {
     "data": {
      "text/plain": [
       "{'this': 7,\n",
       " 'is': 3,\n",
       " 'good': 2,\n",
       " 'movie': 4,\n",
       " 'but': 1,\n",
       " 'actor': 0,\n",
       " 'not': 5,\n",
       " 'present': 6}"
      ]
     },
     "execution_count": 200,
     "metadata": {},
     "output_type": "execute_result"
    }
   ],
   "source": [
    "cv.vocabulary_"
   ]
  },
  {
   "cell_type": "code",
   "execution_count": 201,
   "id": "dc3905c7",
   "metadata": {},
   "outputs": [],
   "source": [
    "cv= CountVectorizer(ngram_range=(2,2))"
   ]
  },
  {
   "cell_type": "code",
   "execution_count": 204,
   "id": "e3a7d4bd",
   "metadata": {},
   "outputs": [
    {
     "data": {
      "text/plain": [
       "array([[0, 0, 1, 1, 0, 0, 0, 0, 1],\n",
       "       [1, 1, 1, 1, 1, 1, 0, 1, 1],\n",
       "       [0, 0, 1, 0, 1, 0, 1, 0, 1]])"
      ]
     },
     "execution_count": 204,
     "metadata": {},
     "output_type": "execute_result"
    }
   ],
   "source": [
    "cv.fit_transform(docs).toarray()"
   ]
  },
  {
   "cell_type": "code",
   "execution_count": 203,
   "id": "794424bc",
   "metadata": {},
   "outputs": [
    {
     "data": {
      "text/plain": [
       "{'this is': 8,\n",
       " 'is good': 3,\n",
       " 'good movie': 2,\n",
       " 'movie but': 5,\n",
       " 'but actor': 1,\n",
       " 'actor is': 0,\n",
       " 'is not': 4,\n",
       " 'not present': 7,\n",
       " 'not good': 6}"
      ]
     },
     "execution_count": 203,
     "metadata": {},
     "output_type": "execute_result"
    }
   ],
   "source": [
    "cv.vocabulary_"
   ]
  },
  {
   "cell_type": "code",
   "execution_count": 205,
   "id": "1026e25f",
   "metadata": {},
   "outputs": [],
   "source": [
    "cv = CountVectorizer(ngram_range = (1,3))"
   ]
  },
  {
   "cell_type": "code",
   "execution_count": 211,
   "id": "e6edfded",
   "metadata": {},
   "outputs": [
    {
     "data": {
      "text/plain": [
       "{'this': 23,\n",
       " 'is': 9,\n",
       " 'good': 6,\n",
       " 'movie': 15,\n",
       " 'this is': 24,\n",
       " 'is good': 10,\n",
       " 'good movie': 7,\n",
       " 'this is good': 25,\n",
       " 'is good movie': 11,\n",
       " 'but': 3,\n",
       " 'actor': 0,\n",
       " 'not': 18,\n",
       " 'present': 22,\n",
       " 'movie but': 16,\n",
       " 'but actor': 4,\n",
       " 'actor is': 1,\n",
       " 'is not': 12,\n",
       " 'not present': 21,\n",
       " 'good movie but': 8,\n",
       " 'movie but actor': 17,\n",
       " 'but actor is': 5,\n",
       " 'actor is not': 2,\n",
       " 'is not present': 14,\n",
       " 'not good': 19,\n",
       " 'this is not': 26,\n",
       " 'is not good': 13,\n",
       " 'not good movie': 20}"
      ]
     },
     "execution_count": 211,
     "metadata": {},
     "output_type": "execute_result"
    }
   ],
   "source": [
    "cv.fit_transform(docs).toarray()\n",
    "\n",
    "cv.vocabulary_"
   ]
  },
  {
   "cell_type": "markdown",
   "id": "34d07ce5",
   "metadata": {},
   "source": [
    "# Tf-Idf Normalization\n",
    "- Avoid features that occur very often, because thry contain less information\n",
    "- Information decrease as the no of occurences increases across different type.\n",
    "- So we define another term - document -frequency which associates a weight ."
   ]
  },
  {
   "cell_type": "code",
   "execution_count": 1,
   "id": "6cbbf853",
   "metadata": {},
   "outputs": [],
   "source": [
    "sent_1 = \"this is a good movie.\"\n",
    "sent_2 = \"this was a good movie.\"\n",
    "sent_3 = \"this is not a good movie.\"\n",
    "\n",
    "corpus = [sent_1,sent_2,sent_3]"
   ]
  },
  {
   "cell_type": "markdown",
   "id": "9608d9c4",
   "metadata": {},
   "source": [
    "- tf - idf(t,d) = log(N)/(1 + count(t,d))\n",
    "#where N= total no of document\n",
    "#how many 't' appeared all docs"
   ]
  },
  {
   "cell_type": "code",
   "execution_count": 5,
   "id": "0ee72878",
   "metadata": {},
   "outputs": [],
   "source": [
    "from sklearn.feature_extraction.text import TfidfVectorizer"
   ]
  },
  {
   "cell_type": "code",
   "execution_count": 6,
   "id": "2ad06a4d",
   "metadata": {},
   "outputs": [],
   "source": [
    "tfidf = TfidfVectorizer()"
   ]
  },
  {
   "cell_type": "code",
   "execution_count": 10,
   "id": "c136b532",
   "metadata": {},
   "outputs": [],
   "source": [
    "vc = tfidf.fit_transform(corpus)"
   ]
  },
  {
   "cell_type": "code",
   "execution_count": 11,
   "id": "403e45f1",
   "metadata": {},
   "outputs": [
    {
     "data": {
      "text/plain": [
       "array([[0.46333427, 0.59662724, 0.46333427, 0.        , 0.46333427,\n",
       "        0.        ],\n",
       "       [0.41285857, 0.        , 0.41285857, 0.        , 0.41285857,\n",
       "        0.69903033],\n",
       "       [0.3645444 , 0.46941728, 0.3645444 , 0.61722732, 0.3645444 ,\n",
       "        0.        ]])"
      ]
     },
     "execution_count": 11,
     "metadata": {},
     "output_type": "execute_result"
    }
   ],
   "source": [
    "vc.toarray()"
   ]
  },
  {
   "cell_type": "code",
   "execution_count": 12,
   "id": "3b77cc1e",
   "metadata": {},
   "outputs": [
    {
     "data": {
      "text/plain": [
       "{'this': 4, 'is': 1, 'good': 0, 'movie': 2, 'was': 5, 'not': 3}"
      ]
     },
     "execution_count": 12,
     "metadata": {},
     "output_type": "execute_result"
    }
   ],
   "source": [
    "tfidf.vocabulary_"
   ]
  },
  {
   "cell_type": "code",
   "execution_count": null,
   "id": "3f2449b1",
   "metadata": {},
   "outputs": [],
   "source": []
  }
 ],
 "metadata": {
  "kernelspec": {
   "display_name": "Python 3 (ipykernel)",
   "language": "python",
   "name": "python3"
  },
  "language_info": {
   "codemirror_mode": {
    "name": "ipython",
    "version": 3
   },
   "file_extension": ".py",
   "mimetype": "text/x-python",
   "name": "python",
   "nbconvert_exporter": "python",
   "pygments_lexer": "ipython3",
   "version": "3.8.10"
  }
 },
 "nbformat": 4,
 "nbformat_minor": 5
}
